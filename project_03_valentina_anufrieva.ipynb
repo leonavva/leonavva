{
 "cells": [
  {
   "cell_type": "markdown",
   "metadata": {},
   "source": [
    "<img src=\"https://files.cdn.thinkific.com/file_uploads/133292/images/d57/1b0/1a9/P03.jpg\">"
   ]
  },
  {
   "cell_type": "markdown",
   "metadata": {
    "id": "e5Vts0g2oUvy"
   },
   "source": [
    "`MCSDSC02P03V3______`\n",
    "\n",
    "`MCSDSELIMC02P03V2250621`\n",
    "\n",
    "`MCSDSELIMC02P03V1130621`"
   ]
  },
  {
   "cell_type": "markdown",
   "metadata": {},
   "source": [
    "## Постановка задачи"
   ]
  },
  {
   "cell_type": "markdown",
   "metadata": {},
   "source": [
    "Выполнить анализ заказчика - страховой компании.\n",
    "\n",
    "Задача:\n",
    "- проанализировать выплаты страховых компенсаций;\n",
    "- определить как разные страховые случаи, возраст клиента и его доход влияют на статус выплаты страховой компенсации."
   ]
  },
  {
   "cell_type": "markdown",
   "metadata": {},
   "source": [
    "## Импорт данных и библиотек"
   ]
  },
  {
   "cell_type": "markdown",
   "metadata": {},
   "source": [
    "Импортируем библиотеки, прочитаем файл `insurance.csv` и получим общую информацию о данных."
   ]
  },
  {
   "cell_type": "code",
   "execution_count": 1,
   "metadata": {
    "scrolled": true
   },
   "outputs": [
    {
     "name": "stdout",
     "output_type": "stream",
     "text": [
      "<class 'pandas.core.frame.DataFrame'>\n",
      "RangeIndex: 2301 entries, 0 to 2300\n",
      "Data columns (total 10 columns):\n",
      " #   Column                          Non-Null Count  Dtype  \n",
      "---  ------                          --------------  -----  \n",
      " 0   id                              2301 non-null   int64  \n",
      " 1   perc_of_compensation_paid       2301 non-null   float64\n",
      " 2   age_in_days                     2301 non-null   float64\n",
      " 3   age_id                          2301 non-null   int64  \n",
      " 4   age_group                       2301 non-null   object \n",
      " 5   income                          2236 non-null   float64\n",
      " 6   count_3-6_months_late           2301 non-null   int64  \n",
      " 7   count_6-12_months_late          2301 non-null   int64  \n",
      " 8   count_more_than_12_months_late  2301 non-null   int64  \n",
      " 9   cause                           2301 non-null   object \n",
      "dtypes: float64(3), int64(5), object(2)\n",
      "memory usage: 179.9+ KB\n"
     ]
    }
   ],
   "source": [
    "import pandas as pd\n",
    "import numpy as np\n",
    "\n",
    "insurance_data = pd.read_csv('/Users/valli/Desktop/mcs_ds_02_upd/data/insurance.csv')\n",
    "insurance_data.info()"
   ]
  },
  {
   "cell_type": "markdown",
   "metadata": {},
   "source": [
    "Столбцы содержат следующую информацию:\n",
    "\n",
    "- идентификиционный номер клиента;\n",
    "- процент выплаченной компенсации;\n",
    "- возраст (кол-во прожитых дней);\n",
    "- возрастная категория;\n",
    "- возрастная группа;\n",
    "- доход;\n",
    "- страховка оформлена не позднее 3-6 месяцев;\n",
    "- страховка оформлена не позднее 6-12 месяцев;\n",
    "- страховка оформлена больше года назад;\n",
    "- причина страховой выплаты.\n"
   ]
  },
  {
   "cell_type": "markdown",
   "metadata": {},
   "source": [
    "### Выводы"
   ]
  },
  {
   "cell_type": "markdown",
   "metadata": {},
   "source": [
    "* Данные содержат информация о клинте (застрахованном лице), его возрасте, доходе, статусе стаховой выплаты и её причина (страховой случай)\n",
    "\n",
    "* Датасает состоит из 10 столбцов и 2301 строк, среди них три строки с типом данных float64, пять -  int64, две - object"
   ]
  },
  {
   "cell_type": "markdown",
   "metadata": {},
   "source": [
    "## Предобработка данных"
   ]
  },
  {
   "cell_type": "markdown",
   "metadata": {},
   "source": [
    "**Обработка пропусков**"
   ]
  },
  {
   "cell_type": "markdown",
   "metadata": {},
   "source": [
    "Проверим данные на наличие пропусков, просуммировав их."
   ]
  },
  {
   "cell_type": "code",
   "execution_count": 2,
   "metadata": {
    "scrolled": true
   },
   "outputs": [
    {
     "data": {
      "text/plain": [
       "id                                 0\n",
       "perc_of_compensation_paid          0\n",
       "age_in_days                        0\n",
       "age_id                             0\n",
       "age_group                          0\n",
       "income                            65\n",
       "count_3-6_months_late              0\n",
       "count_6-12_months_late             0\n",
       "count_more_than_12_months_late     0\n",
       "cause                              0\n",
       "dtype: int64"
      ]
     },
     "execution_count": 2,
     "metadata": {},
     "output_type": "execute_result"
    }
   ],
   "source": [
    "insurance_data.isna().sum()"
   ]
  },
  {
   "cell_type": "markdown",
   "metadata": {},
   "source": [
    "Заполним пропуски в столбце `income`."
   ]
  },
  {
   "cell_type": "code",
   "execution_count": 3,
   "metadata": {},
   "outputs": [],
   "source": [
    "insurance_data['income'] = insurance_data['income'].fillna('0000')"
   ]
  },
  {
   "cell_type": "markdown",
   "metadata": {},
   "source": [
    "Проверяем, что пропусков в `income` не осталось."
   ]
  },
  {
   "cell_type": "code",
   "execution_count": 4,
   "metadata": {
    "scrolled": false
   },
   "outputs": [
    {
     "data": {
      "text/plain": [
       "id                                0\n",
       "perc_of_compensation_paid         0\n",
       "age_in_days                       0\n",
       "age_id                            0\n",
       "age_group                         0\n",
       "income                            0\n",
       "count_3-6_months_late             0\n",
       "count_6-12_months_late            0\n",
       "count_more_than_12_months_late    0\n",
       "cause                             0\n",
       "dtype: int64"
      ]
     },
     "execution_count": 4,
     "metadata": {},
     "output_type": "execute_result"
    }
   ],
   "source": [
    "insurance_data.isna().sum()"
   ]
  },
  {
   "cell_type": "markdown",
   "metadata": {},
   "source": [
    "**Замена типа данных**"
   ]
  },
  {
   "cell_type": "markdown",
   "metadata": {},
   "source": [
    "Проверяем, что в столбцах `age_in_days` и `income` вещественный тип данных."
   ]
  },
  {
   "cell_type": "code",
   "execution_count": 5,
   "metadata": {
    "scrolled": false
   },
   "outputs": [
    {
     "data": {
      "text/plain": [
       "age_in_days    float64\n",
       "income          object\n",
       "dtype: object"
      ]
     },
     "execution_count": 5,
     "metadata": {},
     "output_type": "execute_result"
    }
   ],
   "source": [
    "insurance_data[['age_in_days','income']].dtypes"
   ]
  },
  {
   "cell_type": "markdown",
   "metadata": {},
   "source": [
    "Для этих столбцов нужен целочисленный тип, поэтому переведем их, а также избавимся от отрицательных значений в `income`."
   ]
  },
  {
   "cell_type": "code",
   "execution_count": 6,
   "metadata": {},
   "outputs": [],
   "source": [
    "insurance_data[['age_in_days','income']] = insurance_data[['age_in_days','income']].astype('int64')"
   ]
  },
  {
   "cell_type": "code",
   "execution_count": 7,
   "metadata": {},
   "outputs": [],
   "source": [
    "insurance_data['income'] = insurance_data['income'].abs()"
   ]
  },
  {
   "cell_type": "markdown",
   "metadata": {},
   "source": [
    "**Поиск дубликатов с учетом регистра**"
   ]
  },
  {
   "cell_type": "markdown",
   "metadata": {},
   "source": [
    "Проверим уникальные категории в столбце `age_group`."
   ]
  },
  {
   "cell_type": "code",
   "execution_count": 8,
   "metadata": {
    "scrolled": true
   },
   "outputs": [
    {
     "data": {
      "text/plain": [
       "array(['Пожилой', 'пожилой', 'Зрелый', 'Молодой', 'ЗРЕЛЫЙ', 'ПОЖИЛОЙ',\n",
       "       'зрелый', 'молодой', 'МОЛОДОЙ'], dtype=object)"
      ]
     },
     "execution_count": 8,
     "metadata": {},
     "output_type": "execute_result"
    }
   ],
   "source": [
    "insurance_data['age_group'].unique()"
   ]
  },
  {
   "cell_type": "markdown",
   "metadata": {},
   "source": [
    "Приведем их к нижнему регистру."
   ]
  },
  {
   "cell_type": "code",
   "execution_count": 9,
   "metadata": {
    "scrolled": false
   },
   "outputs": [],
   "source": [
    "insurance_data['age_group'] = insurance_data['age_group'].str.lower()"
   ]
  },
  {
   "cell_type": "markdown",
   "metadata": {},
   "source": [
    "**Обработка дубликатов**"
   ]
  },
  {
   "cell_type": "markdown",
   "metadata": {},
   "source": [
    "Установим количество явных дубликатов. Если найдутся, то удалим и снова проверим, что их не осталось."
   ]
  },
  {
   "cell_type": "code",
   "execution_count": 10,
   "metadata": {
    "scrolled": true
   },
   "outputs": [
    {
     "data": {
      "text/plain": [
       "7"
      ]
     },
     "execution_count": 10,
     "metadata": {},
     "output_type": "execute_result"
    }
   ],
   "source": [
    "insurance_data.duplicated().sum()"
   ]
  },
  {
   "cell_type": "code",
   "execution_count": 11,
   "metadata": {},
   "outputs": [],
   "source": [
    "insurance_data = insurance_data.drop_duplicates().reset_index(drop=True)"
   ]
  },
  {
   "cell_type": "code",
   "execution_count": 12,
   "metadata": {},
   "outputs": [
    {
     "data": {
      "text/plain": [
       "0"
      ]
     },
     "execution_count": 12,
     "metadata": {},
     "output_type": "execute_result"
    }
   ],
   "source": [
    "insurance_data.duplicated().sum()"
   ]
  },
  {
   "cell_type": "markdown",
   "metadata": {},
   "source": [
    "**Стэмминг**"
   ]
  },
  {
   "cell_type": "markdown",
   "metadata": {},
   "source": [
    "Посчитаем уникальные значения в столбце `cause`."
   ]
  },
  {
   "cell_type": "code",
   "execution_count": 13,
   "metadata": {
    "scrolled": false
   },
   "outputs": [
    {
     "data": {
      "text/plain": [
       "кража автомобиля               112\n",
       "травма во время отдыха         107\n",
       "сломала ногу в отпуске          95\n",
       "упало дерево на автомобиль      94\n",
       "украли багаж в отпуске          94\n",
       "травма в отпуске                94\n",
       "сгорел дом                      93\n",
       "замкнуло электричество дома     91\n",
       "сгорела квартира                91\n",
       "врезались в автомобиль          91\n",
       "несчастный случай в отпуске     91\n",
       "сотрясение во время отдыха      90\n",
       "проникли в жилье                89\n",
       "повреждение автомобиля          89\n",
       "потоп в квартире                88\n",
       "хищение автомобиля (каско)      88\n",
       "несчастный случай на отдыхе     85\n",
       "повреждение авто                85\n",
       "кража авто                      82\n",
       "обокрали дачу                   81\n",
       "поломка авто                    81\n",
       "кража в квартире                79\n",
       "украли авто                     78\n",
       "взломали квартиру               77\n",
       "дтп                             76\n",
       "затопило дом                    73\n",
       "Name: cause, dtype: int64"
      ]
     },
     "execution_count": 13,
     "metadata": {},
     "output_type": "execute_result"
    }
   ],
   "source": [
    "insurance_data['cause'].value_counts()"
   ]
  },
  {
   "cell_type": "markdown",
   "metadata": {},
   "source": [
    "Выделим очевидные разные стеммы:\n",
    "\n",
    "* авто\n",
    "* квартира\n",
    "* дача\n",
    "* дом\n",
    "* отдых\n",
    "* дтп\n",
    "\n",
    "Из них можно выделить следующие виды страхования:\n",
    "\n",
    "страхование автотранспорта, страхование недвижимости, страхование во время отпуска.\n",
    "\n",
    "Напишем функцию, которая принимает неизменяемую часть слова и возвращает все названия категорий с ним. Сначала попробуем стемминг и если не поймаем «чужих» названий — значит этот метод подойдет."
   ]
  },
  {
   "cell_type": "code",
   "execution_count": 14,
   "metadata": {},
   "outputs": [],
   "source": [
    "def specific_cause(df, column, word):\n",
    "    filter_cause = df.loc[df[column].str.contains(word)]\n",
    "    result = filter_cause[column].value_counts()\n",
    "    return result"
   ]
  },
  {
   "cell_type": "code",
   "execution_count": 15,
   "metadata": {},
   "outputs": [
    {
     "data": {
      "text/plain": [
       "кража автомобиля              112\n",
       "упало дерево на автомобиль     94\n",
       "врезались в автомобиль         91\n",
       "повреждение автомобиля         89\n",
       "хищение автомобиля (каско)     88\n",
       "повреждение авто               85\n",
       "кража авто                     82\n",
       "поломка авто                   81\n",
       "украли авто                    78\n",
       "Name: cause, dtype: int64"
      ]
     },
     "execution_count": 15,
     "metadata": {},
     "output_type": "execute_result"
    }
   ],
   "source": [
    "specific_cause(insurance_data, 'cause', 'авто')"
   ]
  },
  {
   "cell_type": "markdown",
   "metadata": {},
   "source": [
    "**Категоризация данных**"
   ]
  },
  {
   "cell_type": "markdown",
   "metadata": {},
   "source": [
    "Cловарь — распространенный способ хранения информации, который помогает убрать текстовые параметры из основной таблицы и увеличить эффективность работы с данными. Выделим словарь для возрастных групп."
   ]
  },
  {
   "cell_type": "code",
   "execution_count": 16,
   "metadata": {},
   "outputs": [
    {
     "data": {
      "text/html": [
       "<div>\n",
       "<style scoped>\n",
       "    .dataframe tbody tr th:only-of-type {\n",
       "        vertical-align: middle;\n",
       "    }\n",
       "\n",
       "    .dataframe tbody tr th {\n",
       "        vertical-align: top;\n",
       "    }\n",
       "\n",
       "    .dataframe thead th {\n",
       "        text-align: right;\n",
       "    }\n",
       "</style>\n",
       "<table border=\"1\" class=\"dataframe\">\n",
       "  <thead>\n",
       "    <tr style=\"text-align: right;\">\n",
       "      <th></th>\n",
       "      <th>age_group</th>\n",
       "    </tr>\n",
       "  </thead>\n",
       "  <tbody>\n",
       "    <tr>\n",
       "      <th>0</th>\n",
       "      <td>пожилой</td>\n",
       "    </tr>\n",
       "    <tr>\n",
       "      <th>1</th>\n",
       "      <td>пожилой</td>\n",
       "    </tr>\n",
       "    <tr>\n",
       "      <th>2</th>\n",
       "      <td>зрелый</td>\n",
       "    </tr>\n",
       "    <tr>\n",
       "      <th>3</th>\n",
       "      <td>зрелый</td>\n",
       "    </tr>\n",
       "    <tr>\n",
       "      <th>4</th>\n",
       "      <td>молодой</td>\n",
       "    </tr>\n",
       "    <tr>\n",
       "      <th>5</th>\n",
       "      <td>зрелый</td>\n",
       "    </tr>\n",
       "    <tr>\n",
       "      <th>6</th>\n",
       "      <td>зрелый</td>\n",
       "    </tr>\n",
       "    <tr>\n",
       "      <th>7</th>\n",
       "      <td>пожилой</td>\n",
       "    </tr>\n",
       "    <tr>\n",
       "      <th>8</th>\n",
       "      <td>пожилой</td>\n",
       "    </tr>\n",
       "    <tr>\n",
       "      <th>9</th>\n",
       "      <td>пожилой</td>\n",
       "    </tr>\n",
       "  </tbody>\n",
       "</table>\n",
       "</div>"
      ],
      "text/plain": [
       "  age_group\n",
       "0   пожилой\n",
       "1   пожилой\n",
       "2    зрелый\n",
       "3    зрелый\n",
       "4   молодой\n",
       "5    зрелый\n",
       "6    зрелый\n",
       "7   пожилой\n",
       "8   пожилой\n",
       "9   пожилой"
      ]
     },
     "execution_count": 16,
     "metadata": {},
     "output_type": "execute_result"
    }
   ],
   "source": [
    "age_group_df = insurance_data[['age_group']].copy()\n",
    "age_group_df.head(10)"
   ]
  },
  {
   "cell_type": "markdown",
   "metadata": {},
   "source": [
    "Категоризируем причины выплаты страховых платежей с помощью лемматизации."
   ]
  },
  {
   "cell_type": "code",
   "execution_count": 17,
   "metadata": {},
   "outputs": [],
   "source": [
    "from pymystem3 import Mystem\n",
    "m = Mystem()\n",
    "\n",
    "def lem(row):\n",
    "    l = m.lemmatize(row)\n",
    "    if 'автомобиля' in l or 'автомобиль' in l or 'авто' in l or 'дтп' in l:\n",
    "        return 'Автотранспорт'\n",
    "    elif 'дом' in l or 'квартира' in l or 'квартире' in l or 'квартиру' in l or 'жилье' in l or 'дачу' in l:\n",
    "        return 'Недвижимость'\n",
    "    elif 'отпуске' in l or 'отдыхе' in l or 'отпуск' in l or 'отдыха' in l:\n",
    "        return 'Отпуск'\n",
    "    \n",
    "insurance_data['categorized cause'] = insurance_data['cause'].apply(lem)"
   ]
  },
  {
   "cell_type": "code",
   "execution_count": 18,
   "metadata": {},
   "outputs": [
    {
     "data": {
      "text/html": [
       "<div>\n",
       "<style scoped>\n",
       "    .dataframe tbody tr th:only-of-type {\n",
       "        vertical-align: middle;\n",
       "    }\n",
       "\n",
       "    .dataframe tbody tr th {\n",
       "        vertical-align: top;\n",
       "    }\n",
       "\n",
       "    .dataframe thead th {\n",
       "        text-align: right;\n",
       "    }\n",
       "</style>\n",
       "<table border=\"1\" class=\"dataframe\">\n",
       "  <thead>\n",
       "    <tr style=\"text-align: right;\">\n",
       "      <th></th>\n",
       "      <th>id</th>\n",
       "      <th>perc_of_compensation_paid</th>\n",
       "      <th>age_in_days</th>\n",
       "      <th>age_id</th>\n",
       "      <th>age_group</th>\n",
       "      <th>income</th>\n",
       "      <th>count_3-6_months_late</th>\n",
       "      <th>count_6-12_months_late</th>\n",
       "      <th>count_more_than_12_months_late</th>\n",
       "      <th>cause</th>\n",
       "      <th>categorized cause</th>\n",
       "    </tr>\n",
       "  </thead>\n",
       "  <tbody>\n",
       "    <tr>\n",
       "      <th>2284</th>\n",
       "      <td>65351</td>\n",
       "      <td>0.229</td>\n",
       "      <td>22638</td>\n",
       "      <td>4</td>\n",
       "      <td>пожилой</td>\n",
       "      <td>0</td>\n",
       "      <td>0</td>\n",
       "      <td>0</td>\n",
       "      <td>0</td>\n",
       "      <td>кража автомобиля</td>\n",
       "      <td>Автотранспорт</td>\n",
       "    </tr>\n",
       "    <tr>\n",
       "      <th>2285</th>\n",
       "      <td>19888</td>\n",
       "      <td>0.041</td>\n",
       "      <td>10598</td>\n",
       "      <td>2</td>\n",
       "      <td>молодой</td>\n",
       "      <td>0</td>\n",
       "      <td>0</td>\n",
       "      <td>0</td>\n",
       "      <td>0</td>\n",
       "      <td>кража автомобиля</td>\n",
       "      <td>Автотранспорт</td>\n",
       "    </tr>\n",
       "    <tr>\n",
       "      <th>2286</th>\n",
       "      <td>61783</td>\n",
       "      <td>0.824</td>\n",
       "      <td>10965</td>\n",
       "      <td>2</td>\n",
       "      <td>молодой</td>\n",
       "      <td>0</td>\n",
       "      <td>0</td>\n",
       "      <td>0</td>\n",
       "      <td>0</td>\n",
       "      <td>кража в квартире</td>\n",
       "      <td>Недвижимость</td>\n",
       "    </tr>\n",
       "    <tr>\n",
       "      <th>2287</th>\n",
       "      <td>58158</td>\n",
       "      <td>0.083</td>\n",
       "      <td>12790</td>\n",
       "      <td>3</td>\n",
       "      <td>зрелый</td>\n",
       "      <td>0</td>\n",
       "      <td>0</td>\n",
       "      <td>0</td>\n",
       "      <td>0</td>\n",
       "      <td>проникли в жилье</td>\n",
       "      <td>Недвижимость</td>\n",
       "    </tr>\n",
       "    <tr>\n",
       "      <th>2288</th>\n",
       "      <td>36067</td>\n",
       "      <td>0.012</td>\n",
       "      <td>25190</td>\n",
       "      <td>4</td>\n",
       "      <td>пожилой</td>\n",
       "      <td>0</td>\n",
       "      <td>0</td>\n",
       "      <td>0</td>\n",
       "      <td>0</td>\n",
       "      <td>затопило дом</td>\n",
       "      <td>Недвижимость</td>\n",
       "    </tr>\n",
       "    <tr>\n",
       "      <th>2289</th>\n",
       "      <td>16440</td>\n",
       "      <td>0.474</td>\n",
       "      <td>18628</td>\n",
       "      <td>3</td>\n",
       "      <td>зрелый</td>\n",
       "      <td>0</td>\n",
       "      <td>0</td>\n",
       "      <td>0</td>\n",
       "      <td>0</td>\n",
       "      <td>дтп</td>\n",
       "      <td>Автотранспорт</td>\n",
       "    </tr>\n",
       "    <tr>\n",
       "      <th>2290</th>\n",
       "      <td>109416</td>\n",
       "      <td>0.413</td>\n",
       "      <td>17525</td>\n",
       "      <td>3</td>\n",
       "      <td>зрелый</td>\n",
       "      <td>0</td>\n",
       "      <td>0</td>\n",
       "      <td>0</td>\n",
       "      <td>0</td>\n",
       "      <td>кража в квартире</td>\n",
       "      <td>Недвижимость</td>\n",
       "    </tr>\n",
       "    <tr>\n",
       "      <th>2291</th>\n",
       "      <td>4268</td>\n",
       "      <td>0.109</td>\n",
       "      <td>21906</td>\n",
       "      <td>4</td>\n",
       "      <td>пожилой</td>\n",
       "      <td>0</td>\n",
       "      <td>0</td>\n",
       "      <td>0</td>\n",
       "      <td>0</td>\n",
       "      <td>проникли в жилье</td>\n",
       "      <td>Недвижимость</td>\n",
       "    </tr>\n",
       "    <tr>\n",
       "      <th>2292</th>\n",
       "      <td>85708</td>\n",
       "      <td>0.036</td>\n",
       "      <td>25925</td>\n",
       "      <td>4</td>\n",
       "      <td>пожилой</td>\n",
       "      <td>0</td>\n",
       "      <td>0</td>\n",
       "      <td>0</td>\n",
       "      <td>0</td>\n",
       "      <td>обокрали дачу</td>\n",
       "      <td>None</td>\n",
       "    </tr>\n",
       "    <tr>\n",
       "      <th>2293</th>\n",
       "      <td>105186</td>\n",
       "      <td>0.010</td>\n",
       "      <td>23370</td>\n",
       "      <td>4</td>\n",
       "      <td>пожилой</td>\n",
       "      <td>0</td>\n",
       "      <td>0</td>\n",
       "      <td>0</td>\n",
       "      <td>0</td>\n",
       "      <td>повреждение автомобиля</td>\n",
       "      <td>Автотранспорт</td>\n",
       "    </tr>\n",
       "  </tbody>\n",
       "</table>\n",
       "</div>"
      ],
      "text/plain": [
       "          id  perc_of_compensation_paid  age_in_days  age_id age_group  \\\n",
       "2284   65351                      0.229        22638       4   пожилой   \n",
       "2285   19888                      0.041        10598       2   молодой   \n",
       "2286   61783                      0.824        10965       2   молодой   \n",
       "2287   58158                      0.083        12790       3    зрелый   \n",
       "2288   36067                      0.012        25190       4   пожилой   \n",
       "2289   16440                      0.474        18628       3    зрелый   \n",
       "2290  109416                      0.413        17525       3    зрелый   \n",
       "2291    4268                      0.109        21906       4   пожилой   \n",
       "2292   85708                      0.036        25925       4   пожилой   \n",
       "2293  105186                      0.010        23370       4   пожилой   \n",
       "\n",
       "      income  count_3-6_months_late  count_6-12_months_late  \\\n",
       "2284       0                      0                       0   \n",
       "2285       0                      0                       0   \n",
       "2286       0                      0                       0   \n",
       "2287       0                      0                       0   \n",
       "2288       0                      0                       0   \n",
       "2289       0                      0                       0   \n",
       "2290       0                      0                       0   \n",
       "2291       0                      0                       0   \n",
       "2292       0                      0                       0   \n",
       "2293       0                      0                       0   \n",
       "\n",
       "      count_more_than_12_months_late                   cause categorized cause  \n",
       "2284                               0        кража автомобиля     Автотранспорт  \n",
       "2285                               0        кража автомобиля     Автотранспорт  \n",
       "2286                               0        кража в квартире      Недвижимость  \n",
       "2287                               0        проникли в жилье      Недвижимость  \n",
       "2288                               0            затопило дом      Недвижимость  \n",
       "2289                               0                     дтп     Автотранспорт  \n",
       "2290                               0        кража в квартире      Недвижимость  \n",
       "2291                               0        проникли в жилье      Недвижимость  \n",
       "2292                               0           обокрали дачу              None  \n",
       "2293                               0  повреждение автомобиля     Автотранспорт  "
      ]
     },
     "execution_count": 18,
     "metadata": {},
     "output_type": "execute_result"
    }
   ],
   "source": [
    "insurance_data.tail(10)\n",
    "#не понимаю почему он не считывает \"отдыха\" или \"дачу\" и ставит None в категории"
   ]
  },
  {
   "cell_type": "markdown",
   "metadata": {},
   "source": [
    "Категоризируем статус выплаты компенсации — 0 выплат, выплачена часть, полностью выплачена."
   ]
  },
  {
   "cell_type": "code",
   "execution_count": 19,
   "metadata": {
    "scrolled": false
   },
   "outputs": [],
   "source": [
    "conditions = [\n",
    "     insurance_data['perc_of_compensation_paid'] == 0.000,\n",
    "     insurance_data['perc_of_compensation_paid'] == 1.000,\n",
    "    (insurance_data['perc_of_compensation_paid'] > 0.000) & (insurance_data['perc_of_compensation_paid'] < 1.000)\n",
    "     ]\n",
    "\n",
    "values = ['0 выплат', 'полностью выплачена', 'выплачена часть']\n",
    "\n",
    "insurance_data['categorized payments'] = np.select(conditions, values)"
   ]
  },
  {
   "cell_type": "markdown",
   "metadata": {},
   "source": [
    "Категоризируем `income`, разбив данные по квантилям."
   ]
  },
  {
   "cell_type": "code",
   "execution_count": 20,
   "metadata": {
    "scrolled": false
   },
   "outputs": [],
   "source": [
    "insurance_data['categorized by quantile']=pd.qcut(insurance_data['income'],5, precision=0)"
   ]
  },
  {
   "cell_type": "code",
   "execution_count": 23,
   "metadata": {},
   "outputs": [
    {
     "data": {
      "text/html": [
       "<div>\n",
       "<style scoped>\n",
       "    .dataframe tbody tr th:only-of-type {\n",
       "        vertical-align: middle;\n",
       "    }\n",
       "\n",
       "    .dataframe tbody tr th {\n",
       "        vertical-align: top;\n",
       "    }\n",
       "\n",
       "    .dataframe thead th {\n",
       "        text-align: right;\n",
       "    }\n",
       "</style>\n",
       "<table border=\"1\" class=\"dataframe\">\n",
       "  <thead>\n",
       "    <tr style=\"text-align: right;\">\n",
       "      <th></th>\n",
       "      <th>id</th>\n",
       "      <th>perc_of_compensation_paid</th>\n",
       "      <th>age_in_days</th>\n",
       "      <th>age_id</th>\n",
       "      <th>age_group</th>\n",
       "      <th>income</th>\n",
       "      <th>count_3-6_months_late</th>\n",
       "      <th>count_6-12_months_late</th>\n",
       "      <th>count_more_than_12_months_late</th>\n",
       "      <th>cause</th>\n",
       "      <th>categorized cause</th>\n",
       "      <th>categorized payments</th>\n",
       "      <th>categorized by quantile</th>\n",
       "    </tr>\n",
       "  </thead>\n",
       "  <tbody>\n",
       "    <tr>\n",
       "      <th>0</th>\n",
       "      <td>649</td>\n",
       "      <td>0.001</td>\n",
       "      <td>27384</td>\n",
       "      <td>4</td>\n",
       "      <td>пожилой</td>\n",
       "      <td>0</td>\n",
       "      <td>0</td>\n",
       "      <td>0</td>\n",
       "      <td>0</td>\n",
       "      <td>повреждение автомобиля</td>\n",
       "      <td>Автотранспорт</td>\n",
       "      <td>выплачена часть</td>\n",
       "      <td>(-1.0, 90060.0]</td>\n",
       "    </tr>\n",
       "    <tr>\n",
       "      <th>1</th>\n",
       "      <td>81136</td>\n",
       "      <td>0.124</td>\n",
       "      <td>23735</td>\n",
       "      <td>4</td>\n",
       "      <td>пожилой</td>\n",
       "      <td>285140</td>\n",
       "      <td>0</td>\n",
       "      <td>0</td>\n",
       "      <td>0</td>\n",
       "      <td>упало дерево на автомобиль</td>\n",
       "      <td>Автотранспорт</td>\n",
       "      <td>выплачена часть</td>\n",
       "      <td>(269868.0, 2700040.0]</td>\n",
       "    </tr>\n",
       "    <tr>\n",
       "      <th>2</th>\n",
       "      <td>70762</td>\n",
       "      <td>1.000</td>\n",
       "      <td>17170</td>\n",
       "      <td>3</td>\n",
       "      <td>зрелый</td>\n",
       "      <td>186030</td>\n",
       "      <td>0</td>\n",
       "      <td>0</td>\n",
       "      <td>0</td>\n",
       "      <td>сломала ногу в отпуске</td>\n",
       "      <td>Отпуск</td>\n",
       "      <td>полностью выплачена</td>\n",
       "      <td>(135758.0, 189668.0]</td>\n",
       "    </tr>\n",
       "    <tr>\n",
       "      <th>3</th>\n",
       "      <td>53935</td>\n",
       "      <td>0.198</td>\n",
       "      <td>16068</td>\n",
       "      <td>3</td>\n",
       "      <td>зрелый</td>\n",
       "      <td>123540</td>\n",
       "      <td>0</td>\n",
       "      <td>0</td>\n",
       "      <td>0</td>\n",
       "      <td>хищение автомобиля (каско)</td>\n",
       "      <td>Автотранспорт</td>\n",
       "      <td>выплачена часть</td>\n",
       "      <td>(90060.0, 135758.0]</td>\n",
       "    </tr>\n",
       "    <tr>\n",
       "      <th>4</th>\n",
       "      <td>15476</td>\n",
       "      <td>0.041</td>\n",
       "      <td>10591</td>\n",
       "      <td>2</td>\n",
       "      <td>молодой</td>\n",
       "      <td>200020</td>\n",
       "      <td>1</td>\n",
       "      <td>0</td>\n",
       "      <td>0</td>\n",
       "      <td>несчастный случай в отпуске</td>\n",
       "      <td>Отпуск</td>\n",
       "      <td>выплачена часть</td>\n",
       "      <td>(189668.0, 269868.0]</td>\n",
       "    </tr>\n",
       "    <tr>\n",
       "      <th>5</th>\n",
       "      <td>64797</td>\n",
       "      <td>0.112</td>\n",
       "      <td>16065</td>\n",
       "      <td>3</td>\n",
       "      <td>зрелый</td>\n",
       "      <td>0</td>\n",
       "      <td>0</td>\n",
       "      <td>0</td>\n",
       "      <td>0</td>\n",
       "      <td>врезались в автомобиль</td>\n",
       "      <td>Автотранспорт</td>\n",
       "      <td>выплачена часть</td>\n",
       "      <td>(-1.0, 90060.0]</td>\n",
       "    </tr>\n",
       "    <tr>\n",
       "      <th>6</th>\n",
       "      <td>67412</td>\n",
       "      <td>0.325</td>\n",
       "      <td>17167</td>\n",
       "      <td>3</td>\n",
       "      <td>зрелый</td>\n",
       "      <td>388050</td>\n",
       "      <td>6</td>\n",
       "      <td>0</td>\n",
       "      <td>0</td>\n",
       "      <td>травма во время отдыха</td>\n",
       "      <td>None</td>\n",
       "      <td>выплачена часть</td>\n",
       "      <td>(269868.0, 2700040.0]</td>\n",
       "    </tr>\n",
       "    <tr>\n",
       "      <th>7</th>\n",
       "      <td>44241</td>\n",
       "      <td>0.362</td>\n",
       "      <td>20085</td>\n",
       "      <td>4</td>\n",
       "      <td>пожилой</td>\n",
       "      <td>99880</td>\n",
       "      <td>3</td>\n",
       "      <td>0</td>\n",
       "      <td>0</td>\n",
       "      <td>повреждение автомобиля</td>\n",
       "      <td>Автотранспорт</td>\n",
       "      <td>выплачена часть</td>\n",
       "      <td>(90060.0, 135758.0]</td>\n",
       "    </tr>\n",
       "    <tr>\n",
       "      <th>8</th>\n",
       "      <td>5069</td>\n",
       "      <td>0.115</td>\n",
       "      <td>23008</td>\n",
       "      <td>4</td>\n",
       "      <td>пожилой</td>\n",
       "      <td>360040</td>\n",
       "      <td>0</td>\n",
       "      <td>0</td>\n",
       "      <td>0</td>\n",
       "      <td>сгорела квартира</td>\n",
       "      <td>Недвижимость</td>\n",
       "      <td>выплачена часть</td>\n",
       "      <td>(269868.0, 2700040.0]</td>\n",
       "    </tr>\n",
       "    <tr>\n",
       "      <th>9</th>\n",
       "      <td>16615</td>\n",
       "      <td>0.021</td>\n",
       "      <td>21906</td>\n",
       "      <td>4</td>\n",
       "      <td>пожилой</td>\n",
       "      <td>510040</td>\n",
       "      <td>0</td>\n",
       "      <td>0</td>\n",
       "      <td>0</td>\n",
       "      <td>сгорел дом</td>\n",
       "      <td>Недвижимость</td>\n",
       "      <td>выплачена часть</td>\n",
       "      <td>(269868.0, 2700040.0]</td>\n",
       "    </tr>\n",
       "    <tr>\n",
       "      <th>10</th>\n",
       "      <td>84281</td>\n",
       "      <td>0.006</td>\n",
       "      <td>17531</td>\n",
       "      <td>3</td>\n",
       "      <td>зрелый</td>\n",
       "      <td>178520</td>\n",
       "      <td>0</td>\n",
       "      <td>0</td>\n",
       "      <td>0</td>\n",
       "      <td>травма во время отдыха</td>\n",
       "      <td>None</td>\n",
       "      <td>выплачена часть</td>\n",
       "      <td>(135758.0, 189668.0]</td>\n",
       "    </tr>\n",
       "    <tr>\n",
       "      <th>11</th>\n",
       "      <td>82623</td>\n",
       "      <td>0.324</td>\n",
       "      <td>23000</td>\n",
       "      <td>4</td>\n",
       "      <td>пожилой</td>\n",
       "      <td>154430</td>\n",
       "      <td>0</td>\n",
       "      <td>0</td>\n",
       "      <td>0</td>\n",
       "      <td>кража автомобиля</td>\n",
       "      <td>Автотранспорт</td>\n",
       "      <td>выплачена часть</td>\n",
       "      <td>(135758.0, 189668.0]</td>\n",
       "    </tr>\n",
       "    <tr>\n",
       "      <th>12</th>\n",
       "      <td>86475</td>\n",
       "      <td>0.342</td>\n",
       "      <td>16435</td>\n",
       "      <td>3</td>\n",
       "      <td>зрелый</td>\n",
       "      <td>199820</td>\n",
       "      <td>4</td>\n",
       "      <td>1</td>\n",
       "      <td>0</td>\n",
       "      <td>украли авто</td>\n",
       "      <td>Автотранспорт</td>\n",
       "      <td>выплачена часть</td>\n",
       "      <td>(189668.0, 269868.0]</td>\n",
       "    </tr>\n",
       "    <tr>\n",
       "      <th>13</th>\n",
       "      <td>68263</td>\n",
       "      <td>0.145</td>\n",
       "      <td>14609</td>\n",
       "      <td>3</td>\n",
       "      <td>зрелый</td>\n",
       "      <td>27130</td>\n",
       "      <td>0</td>\n",
       "      <td>0</td>\n",
       "      <td>0</td>\n",
       "      <td>потоп в квартире</td>\n",
       "      <td>Недвижимость</td>\n",
       "      <td>выплачена часть</td>\n",
       "      <td>(-1.0, 90060.0]</td>\n",
       "    </tr>\n",
       "    <tr>\n",
       "      <th>14</th>\n",
       "      <td>113135</td>\n",
       "      <td>0.256</td>\n",
       "      <td>12789</td>\n",
       "      <td>3</td>\n",
       "      <td>зрелый</td>\n",
       "      <td>61540</td>\n",
       "      <td>0</td>\n",
       "      <td>0</td>\n",
       "      <td>0</td>\n",
       "      <td>украли багаж в отпуске</td>\n",
       "      <td>Отпуск</td>\n",
       "      <td>выплачена часть</td>\n",
       "      <td>(-1.0, 90060.0]</td>\n",
       "    </tr>\n",
       "    <tr>\n",
       "      <th>15</th>\n",
       "      <td>45532</td>\n",
       "      <td>0.208</td>\n",
       "      <td>10231</td>\n",
       "      <td>2</td>\n",
       "      <td>молодой</td>\n",
       "      <td>375030</td>\n",
       "      <td>0</td>\n",
       "      <td>0</td>\n",
       "      <td>0</td>\n",
       "      <td>травма во время отдыха</td>\n",
       "      <td>None</td>\n",
       "      <td>выплачена часть</td>\n",
       "      <td>(269868.0, 2700040.0]</td>\n",
       "    </tr>\n",
       "    <tr>\n",
       "      <th>16</th>\n",
       "      <td>102161</td>\n",
       "      <td>0.006</td>\n",
       "      <td>25191</td>\n",
       "      <td>4</td>\n",
       "      <td>пожилой</td>\n",
       "      <td>0</td>\n",
       "      <td>0</td>\n",
       "      <td>0</td>\n",
       "      <td>0</td>\n",
       "      <td>травма во время отдыха</td>\n",
       "      <td>None</td>\n",
       "      <td>выплачена часть</td>\n",
       "      <td>(-1.0, 90060.0]</td>\n",
       "    </tr>\n",
       "    <tr>\n",
       "      <th>17</th>\n",
       "      <td>84789</td>\n",
       "      <td>0.982</td>\n",
       "      <td>16070</td>\n",
       "      <td>3</td>\n",
       "      <td>зрелый</td>\n",
       "      <td>437570</td>\n",
       "      <td>1</td>\n",
       "      <td>0</td>\n",
       "      <td>4</td>\n",
       "      <td>повреждение авто</td>\n",
       "      <td>Автотранспорт</td>\n",
       "      <td>выплачена часть</td>\n",
       "      <td>(269868.0, 2700040.0]</td>\n",
       "    </tr>\n",
       "    <tr>\n",
       "      <th>18</th>\n",
       "      <td>62398</td>\n",
       "      <td>0.264</td>\n",
       "      <td>17166</td>\n",
       "      <td>3</td>\n",
       "      <td>зрелый</td>\n",
       "      <td>250040</td>\n",
       "      <td>0</td>\n",
       "      <td>0</td>\n",
       "      <td>0</td>\n",
       "      <td>проникли в жилье</td>\n",
       "      <td>Недвижимость</td>\n",
       "      <td>выплачена часть</td>\n",
       "      <td>(189668.0, 269868.0]</td>\n",
       "    </tr>\n",
       "    <tr>\n",
       "      <th>19</th>\n",
       "      <td>70148</td>\n",
       "      <td>0.000</td>\n",
       "      <td>8044</td>\n",
       "      <td>2</td>\n",
       "      <td>молодой</td>\n",
       "      <td>27930</td>\n",
       "      <td>0</td>\n",
       "      <td>0</td>\n",
       "      <td>0</td>\n",
       "      <td>повреждение автомобиля</td>\n",
       "      <td>Автотранспорт</td>\n",
       "      <td>0 выплат</td>\n",
       "      <td>(-1.0, 90060.0]</td>\n",
       "    </tr>\n",
       "  </tbody>\n",
       "</table>\n",
       "</div>"
      ],
      "text/plain": [
       "        id  perc_of_compensation_paid  age_in_days  age_id age_group  income  \\\n",
       "0      649                      0.001        27384       4   пожилой       0   \n",
       "1    81136                      0.124        23735       4   пожилой  285140   \n",
       "2    70762                      1.000        17170       3    зрелый  186030   \n",
       "3    53935                      0.198        16068       3    зрелый  123540   \n",
       "4    15476                      0.041        10591       2   молодой  200020   \n",
       "5    64797                      0.112        16065       3    зрелый       0   \n",
       "6    67412                      0.325        17167       3    зрелый  388050   \n",
       "7    44241                      0.362        20085       4   пожилой   99880   \n",
       "8     5069                      0.115        23008       4   пожилой  360040   \n",
       "9    16615                      0.021        21906       4   пожилой  510040   \n",
       "10   84281                      0.006        17531       3    зрелый  178520   \n",
       "11   82623                      0.324        23000       4   пожилой  154430   \n",
       "12   86475                      0.342        16435       3    зрелый  199820   \n",
       "13   68263                      0.145        14609       3    зрелый   27130   \n",
       "14  113135                      0.256        12789       3    зрелый   61540   \n",
       "15   45532                      0.208        10231       2   молодой  375030   \n",
       "16  102161                      0.006        25191       4   пожилой       0   \n",
       "17   84789                      0.982        16070       3    зрелый  437570   \n",
       "18   62398                      0.264        17166       3    зрелый  250040   \n",
       "19   70148                      0.000         8044       2   молодой   27930   \n",
       "\n",
       "    count_3-6_months_late  count_6-12_months_late  \\\n",
       "0                       0                       0   \n",
       "1                       0                       0   \n",
       "2                       0                       0   \n",
       "3                       0                       0   \n",
       "4                       1                       0   \n",
       "5                       0                       0   \n",
       "6                       6                       0   \n",
       "7                       3                       0   \n",
       "8                       0                       0   \n",
       "9                       0                       0   \n",
       "10                      0                       0   \n",
       "11                      0                       0   \n",
       "12                      4                       1   \n",
       "13                      0                       0   \n",
       "14                      0                       0   \n",
       "15                      0                       0   \n",
       "16                      0                       0   \n",
       "17                      1                       0   \n",
       "18                      0                       0   \n",
       "19                      0                       0   \n",
       "\n",
       "    count_more_than_12_months_late                        cause  \\\n",
       "0                                0       повреждение автомобиля   \n",
       "1                                0   упало дерево на автомобиль   \n",
       "2                                0       сломала ногу в отпуске   \n",
       "3                                0   хищение автомобиля (каско)   \n",
       "4                                0  несчастный случай в отпуске   \n",
       "5                                0       врезались в автомобиль   \n",
       "6                                0       травма во время отдыха   \n",
       "7                                0       повреждение автомобиля   \n",
       "8                                0             сгорела квартира   \n",
       "9                                0                   сгорел дом   \n",
       "10                               0       травма во время отдыха   \n",
       "11                               0             кража автомобиля   \n",
       "12                               0                  украли авто   \n",
       "13                               0             потоп в квартире   \n",
       "14                               0       украли багаж в отпуске   \n",
       "15                               0       травма во время отдыха   \n",
       "16                               0       травма во время отдыха   \n",
       "17                               4             повреждение авто   \n",
       "18                               0             проникли в жилье   \n",
       "19                               0       повреждение автомобиля   \n",
       "\n",
       "   categorized cause categorized payments categorized by quantile  \n",
       "0      Автотранспорт      выплачена часть         (-1.0, 90060.0]  \n",
       "1      Автотранспорт      выплачена часть   (269868.0, 2700040.0]  \n",
       "2             Отпуск  полностью выплачена    (135758.0, 189668.0]  \n",
       "3      Автотранспорт      выплачена часть     (90060.0, 135758.0]  \n",
       "4             Отпуск      выплачена часть    (189668.0, 269868.0]  \n",
       "5      Автотранспорт      выплачена часть         (-1.0, 90060.0]  \n",
       "6               None      выплачена часть   (269868.0, 2700040.0]  \n",
       "7      Автотранспорт      выплачена часть     (90060.0, 135758.0]  \n",
       "8       Недвижимость      выплачена часть   (269868.0, 2700040.0]  \n",
       "9       Недвижимость      выплачена часть   (269868.0, 2700040.0]  \n",
       "10              None      выплачена часть    (135758.0, 189668.0]  \n",
       "11     Автотранспорт      выплачена часть    (135758.0, 189668.0]  \n",
       "12     Автотранспорт      выплачена часть    (189668.0, 269868.0]  \n",
       "13      Недвижимость      выплачена часть         (-1.0, 90060.0]  \n",
       "14            Отпуск      выплачена часть         (-1.0, 90060.0]  \n",
       "15              None      выплачена часть   (269868.0, 2700040.0]  \n",
       "16              None      выплачена часть         (-1.0, 90060.0]  \n",
       "17     Автотранспорт      выплачена часть   (269868.0, 2700040.0]  \n",
       "18      Недвижимость      выплачена часть    (189668.0, 269868.0]  \n",
       "19     Автотранспорт             0 выплат         (-1.0, 90060.0]  "
      ]
     },
     "execution_count": 23,
     "metadata": {},
     "output_type": "execute_result"
    }
   ],
   "source": [
    "insurance_data.head(20)"
   ]
  },
  {
   "cell_type": "markdown",
   "metadata": {},
   "source": [
    "## Результаты"
   ]
  },
  {
   "cell_type": "markdown",
   "metadata": {},
   "source": [
    "Подготовим 3 таблицы и изучим результат."
   ]
  },
  {
   "cell_type": "markdown",
   "metadata": {},
   "source": [
    "*ответьте на вопрос — есть ли зависимость между возрастной группой и статусом выплаты?*"
   ]
  },
  {
   "cell_type": "code",
   "execution_count": 29,
   "metadata": {
    "scrolled": true
   },
   "outputs": [
    {
     "data": {
      "text/html": [
       "<div>\n",
       "<style scoped>\n",
       "    .dataframe tbody tr th:only-of-type {\n",
       "        vertical-align: middle;\n",
       "    }\n",
       "\n",
       "    .dataframe tbody tr th {\n",
       "        vertical-align: top;\n",
       "    }\n",
       "\n",
       "    .dataframe thead tr th {\n",
       "        text-align: left;\n",
       "    }\n",
       "</style>\n",
       "<table border=\"1\" class=\"dataframe\">\n",
       "  <thead>\n",
       "    <tr>\n",
       "      <th>categorized payments</th>\n",
       "      <th colspan=\"3\" halign=\"left\">0 выплат</th>\n",
       "      <th colspan=\"3\" halign=\"left\">выплачена часть</th>\n",
       "      <th colspan=\"3\" halign=\"left\">полностью выплачена</th>\n",
       "    </tr>\n",
       "    <tr>\n",
       "      <th>age_group</th>\n",
       "      <th>зрелый</th>\n",
       "      <th>молодой</th>\n",
       "      <th>пожилой</th>\n",
       "      <th>зрелый</th>\n",
       "      <th>молодой</th>\n",
       "      <th>пожилой</th>\n",
       "      <th>зрелый</th>\n",
       "      <th>молодой</th>\n",
       "      <th>пожилой</th>\n",
       "    </tr>\n",
       "  </thead>\n",
       "  <tbody>\n",
       "    <tr>\n",
       "      <th>id</th>\n",
       "      <td>62</td>\n",
       "      <td>31</td>\n",
       "      <td>57</td>\n",
       "      <td>884</td>\n",
       "      <td>206</td>\n",
       "      <td>698</td>\n",
       "      <td>100</td>\n",
       "      <td>52</td>\n",
       "      <td>204</td>\n",
       "    </tr>\n",
       "  </tbody>\n",
       "</table>\n",
       "</div>"
      ],
      "text/plain": [
       "categorized payments 0 выплат                 выплачена часть                  \\\n",
       "age_group              зрелый молодой пожилой          зрелый молодой пожилой   \n",
       "id                         62      31      57             884     206     698   \n",
       "\n",
       "categorized payments полностью выплачена                  \n",
       "age_group                         зрелый молодой пожилой  \n",
       "id                                   100      52     204  "
      ]
     },
     "execution_count": 29,
     "metadata": {},
     "output_type": "execute_result"
    }
   ],
   "source": [
    "compensation_by_age = insurance_data.pivot_table(index=['categorized payments','age_group'], values='id', aggfunc='count').transpose()\n",
    "compensation_by_age"
   ]
  },
  {
   "cell_type": "markdown",
   "metadata": {},
   "source": [
    "Судя по данным таблицы полностью страховые выплаты чаще всего выплачиваются клиентам в пожилой возрастной категории и меньше всего клиентам в молодой возрастной категории.\n",
    "\n",
    "Частичная выплата чаще всего выплачивается клиентам в зрелой возрастной категории и меньше всего клиентам в молодой возрастной категории.\n",
    "\n",
    "Не выплачивают совсем чаще всего клиентам в зрелой возрастной категории и реже всего - молодым клиентам.\n"
   ]
  },
  {
   "cell_type": "markdown",
   "metadata": {},
   "source": [
    "*есть ли зависимость между причиной страхового случая и статусом выплаты?*"
   ]
  },
  {
   "cell_type": "code",
   "execution_count": 31,
   "metadata": {
    "scrolled": false
   },
   "outputs": [
    {
     "data": {
      "text/html": [
       "<div>\n",
       "<style scoped>\n",
       "    .dataframe tbody tr th:only-of-type {\n",
       "        vertical-align: middle;\n",
       "    }\n",
       "\n",
       "    .dataframe tbody tr th {\n",
       "        vertical-align: top;\n",
       "    }\n",
       "\n",
       "    .dataframe thead tr th {\n",
       "        text-align: left;\n",
       "    }\n",
       "</style>\n",
       "<table border=\"1\" class=\"dataframe\">\n",
       "  <thead>\n",
       "    <tr>\n",
       "      <th>categorized payments</th>\n",
       "      <th colspan=\"3\" halign=\"left\">0 выплат</th>\n",
       "      <th colspan=\"3\" halign=\"left\">выплачена часть</th>\n",
       "      <th colspan=\"3\" halign=\"left\">полностью выплачена</th>\n",
       "    </tr>\n",
       "    <tr>\n",
       "      <th>categorized cause</th>\n",
       "      <th>Автотранспорт</th>\n",
       "      <th>Недвижимость</th>\n",
       "      <th>Отпуск</th>\n",
       "      <th>Автотранспорт</th>\n",
       "      <th>Недвижимость</th>\n",
       "      <th>Отпуск</th>\n",
       "      <th>Автотранспорт</th>\n",
       "      <th>Недвижимость</th>\n",
       "      <th>Отпуск</th>\n",
       "    </tr>\n",
       "  </thead>\n",
       "  <tbody>\n",
       "    <tr>\n",
       "      <th>id</th>\n",
       "      <td>54</td>\n",
       "      <td>49</td>\n",
       "      <td>25</td>\n",
       "      <td>640</td>\n",
       "      <td>548</td>\n",
       "      <td>308</td>\n",
       "      <td>182</td>\n",
       "      <td>84</td>\n",
       "      <td>41</td>\n",
       "    </tr>\n",
       "  </tbody>\n",
       "</table>\n",
       "</div>"
      ],
      "text/plain": [
       "categorized payments      0 выплат                     выплачена часть  \\\n",
       "categorized cause    Автотранспорт Недвижимость Отпуск   Автотранспорт   \n",
       "id                              54           49     25             640   \n",
       "\n",
       "categorized payments                     полностью выплачена               \\\n",
       "categorized cause    Недвижимость Отпуск       Автотранспорт Недвижимость   \n",
       "id                            548    308                 182           84   \n",
       "\n",
       "categorized payments         \n",
       "categorized cause    Отпуск  \n",
       "id                       41  "
      ]
     },
     "execution_count": 31,
     "metadata": {},
     "output_type": "execute_result"
    }
   ],
   "source": [
    "compensation_by_cause = insurance_data.pivot_table(index=['categorized payments','categorized cause'], values='id', aggfunc='count').transpose()\n",
    "compensation_by_cause"
   ]
  },
  {
   "cell_type": "markdown",
   "metadata": {},
   "source": [
    "Судя по данным таблицы полностью страховые выплаты чаще всего выплачиваются за стаховой случай с автотранспортом, меньше всего за отпуск.\n",
    "\n",
    "Частичная выплата чаще всего выплачивается также за страховой случай с автотранспортом и меньше всего за отпуск.\n",
    "\n",
    "Не выплачивают совсем чаще всего за страховой случай с автотранспортном и реже всего - за отпуск."
   ]
  },
  {
   "cell_type": "markdown",
   "metadata": {},
   "source": [
    "*есть ли зависимость между доходом клиента и статусом выплаты?*"
   ]
  },
  {
   "cell_type": "code",
   "execution_count": 34,
   "metadata": {},
   "outputs": [
    {
     "data": {
      "text/html": [
       "<div>\n",
       "<style scoped>\n",
       "    .dataframe tbody tr th:only-of-type {\n",
       "        vertical-align: middle;\n",
       "    }\n",
       "\n",
       "    .dataframe tbody tr th {\n",
       "        vertical-align: top;\n",
       "    }\n",
       "\n",
       "    .dataframe thead tr th {\n",
       "        text-align: left;\n",
       "    }\n",
       "</style>\n",
       "<table border=\"1\" class=\"dataframe\">\n",
       "  <thead>\n",
       "    <tr>\n",
       "      <th>categorized payments</th>\n",
       "      <th colspan=\"5\" halign=\"left\">0 выплат</th>\n",
       "      <th colspan=\"5\" halign=\"left\">выплачена часть</th>\n",
       "      <th colspan=\"5\" halign=\"left\">полностью выплачена</th>\n",
       "    </tr>\n",
       "    <tr>\n",
       "      <th>categorized by quantile</th>\n",
       "      <th>(-1.0, 90060.0]</th>\n",
       "      <th>(90060.0, 135758.0]</th>\n",
       "      <th>(135758.0, 189668.0]</th>\n",
       "      <th>(189668.0, 269868.0]</th>\n",
       "      <th>(269868.0, 2700040.0]</th>\n",
       "      <th>(-1.0, 90060.0]</th>\n",
       "      <th>(90060.0, 135758.0]</th>\n",
       "      <th>(135758.0, 189668.0]</th>\n",
       "      <th>(189668.0, 269868.0]</th>\n",
       "      <th>(269868.0, 2700040.0]</th>\n",
       "      <th>(-1.0, 90060.0]</th>\n",
       "      <th>(90060.0, 135758.0]</th>\n",
       "      <th>(135758.0, 189668.0]</th>\n",
       "      <th>(189668.0, 269868.0]</th>\n",
       "      <th>(269868.0, 2700040.0]</th>\n",
       "    </tr>\n",
       "  </thead>\n",
       "  <tbody>\n",
       "    <tr>\n",
       "      <th>id</th>\n",
       "      <td>43</td>\n",
       "      <td>30</td>\n",
       "      <td>33</td>\n",
       "      <td>19</td>\n",
       "      <td>25</td>\n",
       "      <td>326</td>\n",
       "      <td>356</td>\n",
       "      <td>366</td>\n",
       "      <td>371</td>\n",
       "      <td>369</td>\n",
       "      <td>94</td>\n",
       "      <td>69</td>\n",
       "      <td>59</td>\n",
       "      <td>69</td>\n",
       "      <td>65</td>\n",
       "    </tr>\n",
       "  </tbody>\n",
       "</table>\n",
       "</div>"
      ],
      "text/plain": [
       "categorized payments           0 выплат                      \\\n",
       "categorized by quantile (-1.0, 90060.0] (90060.0, 135758.0]   \n",
       "id                                   43                  30   \n",
       "\n",
       "categorized payments                                               \\\n",
       "categorized by quantile (135758.0, 189668.0] (189668.0, 269868.0]   \n",
       "id                                        33                   19   \n",
       "\n",
       "categorized payments                          выплачена часть  \\\n",
       "categorized by quantile (269868.0, 2700040.0] (-1.0, 90060.0]   \n",
       "id                                         25             326   \n",
       "\n",
       "categorized payments                                              \\\n",
       "categorized by quantile (90060.0, 135758.0] (135758.0, 189668.0]   \n",
       "id                                      356                  366   \n",
       "\n",
       "categorized payments                                                \\\n",
       "categorized by quantile (189668.0, 269868.0] (269868.0, 2700040.0]   \n",
       "id                                       371                   369   \n",
       "\n",
       "categorized payments    полностью выплачена                      \\\n",
       "categorized by quantile     (-1.0, 90060.0] (90060.0, 135758.0]   \n",
       "id                                       94                  69   \n",
       "\n",
       "categorized payments                                               \\\n",
       "categorized by quantile (135758.0, 189668.0] (189668.0, 269868.0]   \n",
       "id                                        59                   69   \n",
       "\n",
       "categorized payments                           \n",
       "categorized by quantile (269868.0, 2700040.0]  \n",
       "id                                         65  "
      ]
     },
     "execution_count": 34,
     "metadata": {},
     "output_type": "execute_result"
    }
   ],
   "source": [
    "compensation_by_income = insurance_data.pivot_table(index=['categorized payments','categorized by quantile'], values='id', aggfunc='count').transpose()\n",
    "compensation_by_income"
   ]
  },
  {
   "cell_type": "markdown",
   "metadata": {},
   "source": [
    "Судя по данным таблицы полностью страховые выплаты чаще всего выплачиваются клиентам с самым низким доходом, реже всего клиентам с самым высоким доходом.\n",
    "\n",
    "Частичная выплата чаще всего выплачивается клиентам с самым высоким доходом и реже всего с самым низким.\n",
    "\n",
    "Не выплачивают совсем чаще всего клиентам с самым низким доходом, а реже всего - клиентам с самым высоким."
   ]
  }
 ],
 "metadata": {
  "colab": {
   "collapsed_sections": [],
   "name": "Копия блокнота \"notebook_03_username.ipynb\"",
   "provenance": [],
   "toc_visible": true
  },
  "kernelspec": {
   "display_name": "Python 3 (ipykernel)",
   "language": "python",
   "name": "python3"
  },
  "language_info": {
   "codemirror_mode": {
    "name": "ipython",
    "version": 3
   },
   "file_extension": ".py",
   "mimetype": "text/x-python",
   "name": "python",
   "nbconvert_exporter": "python",
   "pygments_lexer": "ipython3",
   "version": "3.9.13"
  }
 },
 "nbformat": 4,
 "nbformat_minor": 1
}
